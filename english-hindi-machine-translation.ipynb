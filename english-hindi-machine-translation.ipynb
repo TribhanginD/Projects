{
 "cells": [
  {
   "cell_type": "code",
   "execution_count": 1,
   "metadata": {
    "_cell_guid": "79c7e3d0-c299-4dcb-8224-4455121ee9b0",
    "_uuid": "d629ff2d2480ee46fbb7e2d37f6b5fab8052498a",
    "papermill": {
     "duration": 7.238067,
     "end_time": "2020-09-23T09:39:04.821539",
     "exception": false,
     "start_time": "2020-09-23T09:38:57.583472",
     "status": "completed"
    },
    "tags": []
   },
   "outputs": [],
   "source": [
    "import numpy as np\n",
    "import pandas as pd\n",
    "import tensorflow\n",
    "import keras\n",
    "from keras.models import Model\n",
    "from keras.layers import Input, LSTM, Dense,TimeDistributed,Embedding,Bidirectional\n",
    "from keras.preprocessing.text import Tokenizer\n",
    "from string import digits\n",
    "import nltk\n",
    "import re\n",
    "import string\n",
    "import warnings\n",
    "warnings.filterwarnings('ignore')\n",
    "import matplotlib.pyplot as plt"
   ]
  },
  {
   "cell_type": "code",
   "execution_count": 2,
   "metadata": {
    "papermill": {
     "duration": 6.200355,
     "end_time": "2020-09-23T09:39:11.055243",
     "exception": false,
     "start_time": "2020-09-23T09:39:04.854888",
     "status": "completed"
    },
    "tags": []
   },
   "outputs": [
    {
     "data": {
      "text/html": [
       "<div>\n",
       "<style scoped>\n",
       "    .dataframe tbody tr th:only-of-type {\n",
       "        vertical-align: middle;\n",
       "    }\n",
       "\n",
       "    .dataframe tbody tr th {\n",
       "        vertical-align: top;\n",
       "    }\n",
       "\n",
       "    .dataframe thead th {\n",
       "        text-align: right;\n",
       "    }\n",
       "</style>\n",
       "<table border=\"1\" class=\"dataframe\">\n",
       "  <thead>\n",
       "    <tr style=\"text-align: right;\">\n",
       "      <th></th>\n",
       "      <th>hindi</th>\n",
       "      <th>english</th>\n",
       "    </tr>\n",
       "  </thead>\n",
       "  <tbody>\n",
       "    <tr>\n",
       "      <th>0</th>\n",
       "      <td>अपने अनुप्रयोग को पहुंचनीयता व्यायाम का लाभ दें</td>\n",
       "      <td>Give your application an accessibility workout</td>\n",
       "    </tr>\n",
       "    <tr>\n",
       "      <th>1</th>\n",
       "      <td>एक्सेर्साइसर पहुंचनीयता अन्वेषक</td>\n",
       "      <td>Accerciser Accessibility Explorer</td>\n",
       "    </tr>\n",
       "    <tr>\n",
       "      <th>2</th>\n",
       "      <td>निचले पटल के लिए डिफोल्ट प्लग-इन खाका</td>\n",
       "      <td>The default plugin layout for the bottom panel</td>\n",
       "    </tr>\n",
       "    <tr>\n",
       "      <th>3</th>\n",
       "      <td>ऊपरी पटल के लिए डिफोल्ट प्लग-इन खाका</td>\n",
       "      <td>The default plugin layout for the top panel</td>\n",
       "    </tr>\n",
       "    <tr>\n",
       "      <th>4</th>\n",
       "      <td>उन प्लग-इनों की सूची जिन्हें डिफोल्ट रूप से नि...</td>\n",
       "      <td>A list of plugins that are disabled by default</td>\n",
       "    </tr>\n",
       "  </tbody>\n",
       "</table>\n",
       "</div>"
      ],
      "text/plain": [
       "                                               hindi  \\\n",
       "0    अपने अनुप्रयोग को पहुंचनीयता व्यायाम का लाभ दें   \n",
       "1                    एक्सेर्साइसर पहुंचनीयता अन्वेषक   \n",
       "2              निचले पटल के लिए डिफोल्ट प्लग-इन खाका   \n",
       "3               ऊपरी पटल के लिए डिफोल्ट प्लग-इन खाका   \n",
       "4  उन प्लग-इनों की सूची जिन्हें डिफोल्ट रूप से नि...   \n",
       "\n",
       "                                          english  \n",
       "0  Give your application an accessibility workout  \n",
       "1               Accerciser Accessibility Explorer  \n",
       "2  The default plugin layout for the bottom panel  \n",
       "3     The default plugin layout for the top panel  \n",
       "4  A list of plugins that are disabled by default  "
      ]
     },
     "execution_count": 2,
     "metadata": {},
     "output_type": "execute_result"
    }
   ],
   "source": [
    "lines = pd.read_csv('hindi_english_parallel.csv')\n",
    "lines.head()"
   ]
  },
  {
   "cell_type": "code",
   "execution_count": 3,
   "metadata": {
    "papermill": {
     "duration": 0.096161,
     "end_time": "2020-09-23T09:39:11.184873",
     "exception": false,
     "start_time": "2020-09-23T09:39:11.088712",
     "status": "completed"
    },
    "tags": []
   },
   "outputs": [],
   "source": [
    "# Lowercase all characters\n",
    "lines['english']=lines['english'].apply(lambda x: str(x))\n",
    "lines['hindi']=lines['hindi'].apply(lambda x: str(x))\n",
    "lines['english']=lines['english'].apply(lambda x: x.lower())\n",
    "lines['hindi']=lines['hindi'].apply(lambda x: x.lower())\n",
    "# Remove quotes\n",
    "lines['english']=lines['english'].apply(lambda x: re.sub(\"'\", '', x))\n",
    "lines['hindi']=lines['hindi'].apply(lambda x: re.sub(\"'\", '', x))\n",
    "exclude = set(string.punctuation) # Set of all special characters\n",
    "# Remove all the special characters\n",
    "lines['english']=lines['english'].apply(lambda x: ''.join(ch for ch in x if ch not in exclude))\n",
    "lines['hindi']=lines['hindi'].apply(lambda x: ''.join(ch for ch in x if ch not in exclude))\n",
    "# Remove all numbers from text\n",
    "remove_digits = str.maketrans('', '', digits)\n",
    "lines['english']=lines['english'].apply(lambda x: x.translate(remove_digits))\n",
    "lines['hindi']=lines['hindi'].apply(lambda x: x.translate(remove_digits))\n",
    "lines['hindi'] = lines['hindi'].apply(lambda x: re.sub(\"[२३०८१५७९४६]\", \"\", x))\n",
    "\n",
    "# Remove extra spaces\n",
    "lines['english']=lines['english'].apply(lambda x: x.strip())\n",
    "lines['hindi']=lines['hindi'].apply(lambda x: x.strip())\n",
    "lines['english']=lines['english'].apply(lambda x: re.sub(\" +\", \" \", x))\n",
    "lines['hindi']=lines['hindi'].apply(lambda x: re.sub(\" +\", \" \", x))\n",
    "remove_digits = str.maketrans('', '', digits)\n",
    "\n",
    "lines['hindi'] = lines['hindi'].apply(lambda x : 'START_ '+ x + ' _END')"
   ]
  },
  {
   "cell_type": "code",
   "execution_count": 4,
   "metadata": {
    "papermill": {
     "duration": 0.04886,
     "end_time": "2020-09-23T09:39:11.522325",
     "exception": false,
     "start_time": "2020-09-23T09:39:11.473465",
     "status": "completed"
    },
    "tags": []
   },
   "outputs": [
    {
     "data": {
      "text/html": [
       "<div>\n",
       "<style scoped>\n",
       "    .dataframe tbody tr th:only-of-type {\n",
       "        vertical-align: middle;\n",
       "    }\n",
       "\n",
       "    .dataframe tbody tr th {\n",
       "        vertical-align: top;\n",
       "    }\n",
       "\n",
       "    .dataframe thead th {\n",
       "        text-align: right;\n",
       "    }\n",
       "</style>\n",
       "<table border=\"1\" class=\"dataframe\">\n",
       "  <thead>\n",
       "    <tr style=\"text-align: right;\">\n",
       "      <th></th>\n",
       "      <th>hindi</th>\n",
       "      <th>english</th>\n",
       "    </tr>\n",
       "  </thead>\n",
       "  <tbody>\n",
       "    <tr>\n",
       "      <th>0</th>\n",
       "      <td>START_ अपने अनुप्रयोग को पहुंचनीयता व्यायाम का...</td>\n",
       "      <td>give your application an accessibility workout</td>\n",
       "    </tr>\n",
       "    <tr>\n",
       "      <th>1</th>\n",
       "      <td>START_ एक्सेर्साइसर पहुंचनीयता अन्वेषक _END</td>\n",
       "      <td>accerciser accessibility explorer</td>\n",
       "    </tr>\n",
       "    <tr>\n",
       "      <th>2</th>\n",
       "      <td>START_ निचले पटल के लिए डिफोल्ट प्लगइन खाका _END</td>\n",
       "      <td>the default plugin layout for the bottom panel</td>\n",
       "    </tr>\n",
       "    <tr>\n",
       "      <th>3</th>\n",
       "      <td>START_ ऊपरी पटल के लिए डिफोल्ट प्लगइन खाका _END</td>\n",
       "      <td>the default plugin layout for the top panel</td>\n",
       "    </tr>\n",
       "    <tr>\n",
       "      <th>4</th>\n",
       "      <td>START_ उन प्लगइनों की सूची जिन्हें डिफोल्ट रूप...</td>\n",
       "      <td>a list of plugins that are disabled by default</td>\n",
       "    </tr>\n",
       "  </tbody>\n",
       "</table>\n",
       "</div>"
      ],
      "text/plain": [
       "                                               hindi  \\\n",
       "0  START_ अपने अनुप्रयोग को पहुंचनीयता व्यायाम का...   \n",
       "1        START_ एक्सेर्साइसर पहुंचनीयता अन्वेषक _END   \n",
       "2   START_ निचले पटल के लिए डिफोल्ट प्लगइन खाका _END   \n",
       "3    START_ ऊपरी पटल के लिए डिफोल्ट प्लगइन खाका _END   \n",
       "4  START_ उन प्लगइनों की सूची जिन्हें डिफोल्ट रूप...   \n",
       "\n",
       "                                          english  \n",
       "0  give your application an accessibility workout  \n",
       "1               accerciser accessibility explorer  \n",
       "2  the default plugin layout for the bottom panel  \n",
       "3     the default plugin layout for the top panel  \n",
       "4  a list of plugins that are disabled by default  "
      ]
     },
     "execution_count": 4,
     "metadata": {},
     "output_type": "execute_result"
    }
   ],
   "source": [
    "lines = lines[:30000]\n",
    "lines.head()"
   ]
  },
  {
   "cell_type": "code",
   "execution_count": 5,
   "metadata": {
    "papermill": {
     "duration": 0.143303,
     "end_time": "2020-09-23T09:39:13.469110",
     "exception": false,
     "start_time": "2020-09-23T09:39:13.325807",
     "status": "completed"
    },
    "tags": []
   },
   "outputs": [],
   "source": [
    "all_eng_words=set()\n",
    "for eng in lines['english']:\n",
    "    for word in eng.split():\n",
    "        if word not in all_eng_words:\n",
    "            all_eng_words.add(word)\n",
    "\n",
    "all_hindi_words=set()\n",
    "for hin in lines['hindi']:\n",
    "    for word in hin.split():\n",
    "        if word not in all_hindi_words:\n",
    "            all_hindi_words.add(word)"
   ]
  },
  {
   "cell_type": "code",
   "execution_count": 6,
   "metadata": {},
   "outputs": [
    {
     "data": {
      "text/plain": [
       "([<matplotlib.patches.Wedge at 0x2d0b14310>,\n",
       "  <matplotlib.patches.Wedge at 0x2d0b15810>],\n",
       " [Text(0.2105513728320813, 1.0796611132195721, 'English vocabulary'),\n",
       "  Text(-0.21055137283208192, -1.0796611132195721, 'Hindi vocabulary')])"
      ]
     },
     "execution_count": 6,
     "metadata": {},
     "output_type": "execute_result"
    },
    {
     "data": {
      "image/png": "[encoded data removed]",
      "text/plain": [
       "<Figure size 1000x700 with 1 Axes>"
      ]
     },
     "metadata": {},
     "output_type": "display_data"
    }
   ],
   "source": [
    "labels = 'English vocabulary', 'Hindi vocabulary'\n",
    "data = [len(all_eng_words), len(all_hindi_words)]\n",
    "fig = plt.figure(figsize =(10, 7))\n",
    "plt.pie(data, labels = labels)\n"
   ]
  },
  {
   "cell_type": "code",
   "execution_count": 11,
   "metadata": {},
   "outputs": [
    {
     "data": {
      "text/html": [
       "<div>\n",
       "<style scoped>\n",
       "    .dataframe tbody tr th:only-of-type {\n",
       "        vertical-align: middle;\n",
       "    }\n",
       "\n",
       "    .dataframe tbody tr th {\n",
       "        vertical-align: top;\n",
       "    }\n",
       "\n",
       "    .dataframe thead th {\n",
       "        text-align: right;\n",
       "    }\n",
       "</style>\n",
       "<table border=\"1\" class=\"dataframe\">\n",
       "  <thead>\n",
       "    <tr style=\"text-align: right;\">\n",
       "      <th></th>\n",
       "      <th>DATASET</th>\n",
       "      <th>Sentence Pairs(Utilized)</th>\n",
       "      <th>Unique words (ENGLISH)</th>\n",
       "      <th>Unique words (HINDI)</th>\n",
       "    </tr>\n",
       "  </thead>\n",
       "  <tbody>\n",
       "    <tr>\n",
       "      <th>0</th>\n",
       "      <td>IIT Bombay English-Hindi Translation Dataset</td>\n",
       "      <td>30000</td>\n",
       "      <td>2687</td>\n",
       "      <td>3438</td>\n",
       "    </tr>\n",
       "  </tbody>\n",
       "</table>\n",
       "</div>"
      ],
      "text/plain": [
       "                                        DATASET  Sentence Pairs(Utilized)  \\\n",
       "0  IIT Bombay English-Hindi Translation Dataset                     30000   \n",
       "\n",
       "   Unique words (ENGLISH)  Unique words (HINDI)  \n",
       "0                    2687                  3438  "
      ]
     },
     "execution_count": 11,
     "metadata": {},
     "output_type": "execute_result"
    }
   ],
   "source": [
    "\n",
    "data = {\n",
    "    \"DATASET\":\"IIT Bombay English-Hindi Translation Dataset\",\n",
    "  \"Sentence Pairs(Utilized)\" : [len(lines)],\n",
    "  \"Unique words (ENGLISH)\": [len(all_eng_words)],\n",
    "  \"Unique words (HINDI)\": [len(all_hindi_words)]\n",
    "}\n",
    "\n",
    "df = pd.DataFrame(data)\n",
    "df "
   ]
  },
  {
   "cell_type": "code",
   "execution_count": 15,
   "metadata": {
    "papermill": {
     "duration": 0.055852,
     "end_time": "2020-09-23T09:39:13.566741",
     "exception": false,
     "start_time": "2020-09-23T09:39:13.510889",
     "status": "completed"
    },
    "tags": []
   },
   "outputs": [
    {
     "data": {
      "text/html": [
       "<div>\n",
       "<style scoped>\n",
       "    .dataframe tbody tr th:only-of-type {\n",
       "        vertical-align: middle;\n",
       "    }\n",
       "\n",
       "    .dataframe tbody tr th {\n",
       "        vertical-align: top;\n",
       "    }\n",
       "\n",
       "    .dataframe thead th {\n",
       "        text-align: right;\n",
       "    }\n",
       "</style>\n",
       "<table border=\"1\" class=\"dataframe\">\n",
       "  <thead>\n",
       "    <tr style=\"text-align: right;\">\n",
       "      <th></th>\n",
       "      <th>hindi</th>\n",
       "      <th>english</th>\n",
       "    </tr>\n",
       "  </thead>\n",
       "  <tbody>\n",
       "    <tr>\n",
       "      <th>0</th>\n",
       "      <td>START_ अपने अनुप्रयोग को पहुंचनीयता व्यायाम का...</td>\n",
       "      <td>give your application an accessibility workout</td>\n",
       "    </tr>\n",
       "    <tr>\n",
       "      <th>1</th>\n",
       "      <td>START_ एक्सेर्साइसर पहुंचनीयता अन्वेषक _END</td>\n",
       "      <td>accerciser accessibility explorer</td>\n",
       "    </tr>\n",
       "    <tr>\n",
       "      <th>2</th>\n",
       "      <td>START_ निचले पटल के लिए डिफोल्ट प्लगइन खाका _END</td>\n",
       "      <td>the default plugin layout for the bottom panel</td>\n",
       "    </tr>\n",
       "    <tr>\n",
       "      <th>3</th>\n",
       "      <td>START_ ऊपरी पटल के लिए डिफोल्ट प्लगइन खाका _END</td>\n",
       "      <td>the default plugin layout for the top panel</td>\n",
       "    </tr>\n",
       "    <tr>\n",
       "      <th>4</th>\n",
       "      <td>START_ उन प्लगइनों की सूची जिन्हें डिफोल्ट रूप...</td>\n",
       "      <td>a list of plugins that are disabled by default</td>\n",
       "    </tr>\n",
       "  </tbody>\n",
       "</table>\n",
       "</div>"
      ],
      "text/plain": [
       "                                               hindi  \\\n",
       "0  START_ अपने अनुप्रयोग को पहुंचनीयता व्यायाम का...   \n",
       "1        START_ एक्सेर्साइसर पहुंचनीयता अन्वेषक _END   \n",
       "2   START_ निचले पटल के लिए डिफोल्ट प्लगइन खाका _END   \n",
       "3    START_ ऊपरी पटल के लिए डिफोल्ट प्लगइन खाका _END   \n",
       "4  START_ उन प्लगइनों की सूची जिन्हें डिफोल्ट रूप...   \n",
       "\n",
       "                                          english  \n",
       "0  give your application an accessibility workout  \n",
       "1               accerciser accessibility explorer  \n",
       "2  the default plugin layout for the bottom panel  \n",
       "3     the default plugin layout for the top panel  \n",
       "4  a list of plugins that are disabled by default  "
      ]
     },
     "execution_count": 15,
     "metadata": {},
     "output_type": "execute_result"
    }
   ],
   "source": [
    "lines.head()"
   ]
  },
  {
   "cell_type": "code",
   "execution_count": 16,
   "metadata": {
    "papermill": {
     "duration": 0.116523,
     "end_time": "2020-09-23T09:39:13.724138",
     "exception": false,
     "start_time": "2020-09-23T09:39:13.607615",
     "status": "completed"
    },
    "tags": []
   },
   "outputs": [],
   "source": [
    "lines['length_eng']=lines['english'].apply(lambda x:len(x.split(\" \")))\n",
    "lines['length_hin']=lines['hindi'].apply(lambda x:len(x.split(\" \")))"
   ]
  },
  {
   "cell_type": "code",
   "execution_count": 17,
   "metadata": {
    "papermill": {
     "duration": 0.056741,
     "end_time": "2020-09-23T09:39:13.936134",
     "exception": false,
     "start_time": "2020-09-23T09:39:13.879393",
     "status": "completed"
    },
    "tags": []
   },
   "outputs": [],
   "source": [
    "lines[lines['length_eng']>30].shape\n",
    "lines=lines[lines['length_eng']<=20]\n",
    "lines=lines[lines['length_hin']<=20]"
   ]
  },
  {
   "cell_type": "code",
   "execution_count": 18,
   "metadata": {
    "papermill": {
     "duration": 0.058618,
     "end_time": "2020-09-23T09:39:14.139579",
     "exception": false,
     "start_time": "2020-09-23T09:39:14.080961",
     "status": "completed"
    },
    "tags": []
   },
   "outputs": [],
   "source": [
    "max_length_src=max(lines['length_hin'])\n",
    "max_length_tar=max(lines['length_eng'])"
   ]
  },
  {
   "cell_type": "code",
   "execution_count": 19,
   "metadata": {
    "papermill": {
     "duration": 0.069065,
     "end_time": "2020-09-23T09:39:14.249995",
     "exception": false,
     "start_time": "2020-09-23T09:39:14.180930",
     "status": "completed"
    },
    "tags": []
   },
   "outputs": [
    {
     "data": {
      "text/plain": [
       "(2687, 3438)"
      ]
     },
     "execution_count": 19,
     "metadata": {},
     "output_type": "execute_result"
    }
   ],
   "source": [
    "input_words = sorted(list(all_eng_words))\n",
    "target_words = sorted(list(all_hindi_words))\n",
    "num_encoder_tokens = len(all_eng_words)\n",
    "num_decoder_tokens = len(all_hindi_words)\n",
    "num_encoder_tokens, num_decoder_tokens"
   ]
  },
  {
   "cell_type": "code",
   "execution_count": null,
   "metadata": {},
   "outputs": [],
   "source": []
  },
  {
   "cell_type": "code",
   "execution_count": 20,
   "metadata": {
    "papermill": {
     "duration": 0.050903,
     "end_time": "2020-09-23T09:39:14.473212",
     "exception": false,
     "start_time": "2020-09-23T09:39:14.422309",
     "status": "completed"
    },
    "tags": []
   },
   "outputs": [],
   "source": [
    "num_decoder_tokens += 1"
   ]
  },
  {
   "cell_type": "code",
   "execution_count": 21,
   "metadata": {
    "papermill": {
     "duration": 0.058655,
     "end_time": "2020-09-23T09:39:14.682929",
     "exception": false,
     "start_time": "2020-09-23T09:39:14.624274",
     "status": "completed"
    },
    "tags": []
   },
   "outputs": [],
   "source": [
    "input_token_index = dict([(word, i+1) for i, word in enumerate(input_words)])\n",
    "target_token_index = dict([(word, i+1) for i, word in enumerate(target_words)])"
   ]
  },
  {
   "cell_type": "code",
   "execution_count": 22,
   "metadata": {
    "papermill": {
     "duration": 0.093043,
     "end_time": "2020-09-23T09:39:14.822904",
     "exception": false,
     "start_time": "2020-09-23T09:39:14.729861",
     "status": "completed"
    },
    "tags": []
   },
   "outputs": [
    {
     "data": {
      "text/plain": [
       "('a', 1)"
      ]
     },
     "execution_count": 22,
     "metadata": {},
     "output_type": "execute_result"
    }
   ],
   "source": [
    "next(iter((input_token_index.items())) )"
   ]
  },
  {
   "cell_type": "code",
   "execution_count": 23,
   "metadata": {
    "papermill": {
     "duration": 0.057367,
     "end_time": "2020-09-23T09:39:14.926325",
     "exception": false,
     "start_time": "2020-09-23T09:39:14.868958",
     "status": "completed"
    },
    "tags": []
   },
   "outputs": [],
   "source": [
    "reverse_input_char_index = dict((i, word) for word, i in input_token_index.items())\n",
    "reverse_target_char_index = dict((i, word) for word, i in target_token_index.items())"
   ]
  },
  {
   "cell_type": "code",
   "execution_count": 24,
   "metadata": {},
   "outputs": [
    {
     "data": {
      "text/plain": [
       "(1, 'a')"
      ]
     },
     "execution_count": 24,
     "metadata": {},
     "output_type": "execute_result"
    }
   ],
   "source": [
    "next(iter((reverse_input_char_index.items())) )"
   ]
  },
  {
   "cell_type": "code",
   "execution_count": 25,
   "metadata": {
    "papermill": {
     "duration": 0.065757,
     "end_time": "2020-09-23T09:39:15.179882",
     "exception": false,
     "start_time": "2020-09-23T09:39:15.114125",
     "status": "completed"
    },
    "tags": []
   },
   "outputs": [
    {
     "data": {
      "text/html": [
       "<div>\n",
       "<style scoped>\n",
       "    .dataframe tbody tr th:only-of-type {\n",
       "        vertical-align: middle;\n",
       "    }\n",
       "\n",
       "    .dataframe tbody tr th {\n",
       "        vertical-align: top;\n",
       "    }\n",
       "\n",
       "    .dataframe thead th {\n",
       "        text-align: right;\n",
       "    }\n",
       "</style>\n",
       "<table border=\"1\" class=\"dataframe\">\n",
       "  <thead>\n",
       "    <tr style=\"text-align: right;\">\n",
       "      <th></th>\n",
       "      <th>hindi</th>\n",
       "      <th>english</th>\n",
       "      <th>length_eng</th>\n",
       "      <th>length_hin</th>\n",
       "    </tr>\n",
       "  </thead>\n",
       "  <tbody>\n",
       "    <tr>\n",
       "      <th>0</th>\n",
       "      <td>START_ अपने अनुप्रयोग को पहुंचनीयता व्यायाम का...</td>\n",
       "      <td>give your application an accessibility workout</td>\n",
       "      <td>6</td>\n",
       "      <td>10</td>\n",
       "    </tr>\n",
       "    <tr>\n",
       "      <th>1</th>\n",
       "      <td>START_ एक्सेर्साइसर पहुंचनीयता अन्वेषक _END</td>\n",
       "      <td>accerciser accessibility explorer</td>\n",
       "      <td>3</td>\n",
       "      <td>5</td>\n",
       "    </tr>\n",
       "    <tr>\n",
       "      <th>2</th>\n",
       "      <td>START_ निचले पटल के लिए डिफोल्ट प्लगइन खाका _END</td>\n",
       "      <td>the default plugin layout for the bottom panel</td>\n",
       "      <td>8</td>\n",
       "      <td>9</td>\n",
       "    </tr>\n",
       "    <tr>\n",
       "      <th>3</th>\n",
       "      <td>START_ ऊपरी पटल के लिए डिफोल्ट प्लगइन खाका _END</td>\n",
       "      <td>the default plugin layout for the top panel</td>\n",
       "      <td>8</td>\n",
       "      <td>9</td>\n",
       "    </tr>\n",
       "    <tr>\n",
       "      <th>4</th>\n",
       "      <td>START_ उन प्लगइनों की सूची जिन्हें डिफोल्ट रूप...</td>\n",
       "      <td>a list of plugins that are disabled by default</td>\n",
       "      <td>9</td>\n",
       "      <td>14</td>\n",
       "    </tr>\n",
       "  </tbody>\n",
       "</table>\n",
       "</div>"
      ],
      "text/plain": [
       "                                               hindi  \\\n",
       "0  START_ अपने अनुप्रयोग को पहुंचनीयता व्यायाम का...   \n",
       "1        START_ एक्सेर्साइसर पहुंचनीयता अन्वेषक _END   \n",
       "2   START_ निचले पटल के लिए डिफोल्ट प्लगइन खाका _END   \n",
       "3    START_ ऊपरी पटल के लिए डिफोल्ट प्लगइन खाका _END   \n",
       "4  START_ उन प्लगइनों की सूची जिन्हें डिफोल्ट रूप...   \n",
       "\n",
       "                                          english  length_eng  length_hin  \n",
       "0  give your application an accessibility workout           6          10  \n",
       "1               accerciser accessibility explorer           3           5  \n",
       "2  the default plugin layout for the bottom panel           8           9  \n",
       "3     the default plugin layout for the top panel           8           9  \n",
       "4  a list of plugins that are disabled by default           9          14  "
      ]
     },
     "execution_count": 25,
     "metadata": {},
     "output_type": "execute_result"
    }
   ],
   "source": [
    "lines.head()"
   ]
  },
  {
   "cell_type": "code",
   "execution_count": 29,
   "metadata": {
    "papermill": {
     "duration": 0.068781,
     "end_time": "2020-09-23T09:39:15.299053",
     "exception": false,
     "start_time": "2020-09-23T09:39:15.230272",
     "status": "completed"
    },
    "tags": []
   },
   "outputs": [
    {
     "data": {
      "text/plain": [
       "((23712,), (5928,))"
      ]
     },
     "execution_count": 29,
     "metadata": {},
     "output_type": "execute_result"
    }
   ],
   "source": [
    "from sklearn.model_selection import train_test_split\n",
    "X, y = lines['english'], lines['hindi']\n",
    "X_train, X_test, y_train, y_test = train_test_split(X, y, test_size = 0.2,random_state=42)\n",
    "X_train.shape, X_test.shape"
   ]
  },
  {
   "cell_type": "code",
   "execution_count": 33,
   "metadata": {},
   "outputs": [
    {
     "data": {
      "text/html": [
       "<div>\n",
       "<style scoped>\n",
       "    .dataframe tbody tr th:only-of-type {\n",
       "        vertical-align: middle;\n",
       "    }\n",
       "\n",
       "    .dataframe tbody tr th {\n",
       "        vertical-align: top;\n",
       "    }\n",
       "\n",
       "    .dataframe thead th {\n",
       "        text-align: right;\n",
       "    }\n",
       "</style>\n",
       "<table border=\"1\" class=\"dataframe\">\n",
       "  <thead>\n",
       "    <tr style=\"text-align: right;\">\n",
       "      <th></th>\n",
       "      <th>DATA SECTION</th>\n",
       "      <th>SENTENCE PAIRS</th>\n",
       "    </tr>\n",
       "  </thead>\n",
       "  <tbody>\n",
       "    <tr>\n",
       "      <th>0</th>\n",
       "      <td>Testing</td>\n",
       "      <td>23712</td>\n",
       "    </tr>\n",
       "    <tr>\n",
       "      <th>1</th>\n",
       "      <td>Training</td>\n",
       "      <td>5928</td>\n",
       "    </tr>\n",
       "  </tbody>\n",
       "</table>\n",
       "</div>"
      ],
      "text/plain": [
       "  DATA SECTION  SENTENCE PAIRS\n",
       "0      Testing           23712\n",
       "1     Training            5928"
      ]
     },
     "execution_count": 33,
     "metadata": {},
     "output_type": "execute_result"
    }
   ],
   "source": [
    "data = {\n",
    "    \"DATA SECTION\":[\"Testing\",\"Training\"],\n",
    "  \"SENTENCE PAIRS\" :[X_train.size,X_test.size],\n",
    "}\n",
    "\n",
    "df = pd.DataFrame(data)\n",
    "df "
   ]
  },
  {
   "cell_type": "code",
   "execution_count": 35,
   "metadata": {
    "papermill": {
     "duration": 0.058069,
     "end_time": "2020-09-23T09:39:15.515142",
     "exception": false,
     "start_time": "2020-09-23T09:39:15.457073",
     "status": "completed"
    },
    "tags": []
   },
   "outputs": [],
   "source": [
    "encoder_input_data = np.zeros((2, max_length_src),dtype='float32')\n",
    "decoder_input_data = np.zeros((2, max_length_tar),dtype='float32')\n",
    "decoder_target_data = np.zeros((2, max_length_tar, num_decoder_tokens),dtype='float32')"
   ]
  },
  {
   "cell_type": "code",
   "execution_count": 36,
   "metadata": {
    "papermill": {
     "duration": 0.066119,
     "end_time": "2020-09-23T09:39:15.631110",
     "exception": false,
     "start_time": "2020-09-23T09:39:15.564991",
     "status": "completed"
    },
    "tags": []
   },
   "outputs": [],
   "source": [
    "def generate_batch(X = X_train, y = y_train, batch_size = 128):\n",
    "    ''' Generate a batch of data '''\n",
    "    while True:\n",
    "        for j in range(0, len(X), batch_size):\n",
    "            encoder_input_data = np.zeros((batch_size, max_length_src),dtype='float32')\n",
    "            decoder_input_data = np.zeros((batch_size, max_length_tar),dtype='float32')\n",
    "            decoder_target_data = np.zeros((batch_size, max_length_tar, num_decoder_tokens),dtype='float32')\n",
    "            for i, (input_text, target_text) in enumerate(zip(X[j:j+batch_size], y[j:j+batch_size])):\n",
    "                for t, word in enumerate(input_text.split()):\n",
    "                    encoder_input_data[i, t] = input_token_index[word] \n",
    "                for t, word in enumerate(target_text.split()):\n",
    "                    if t<len(target_text.split())-1:\n",
    "                        decoder_input_data[i, t] = target_token_index[word]\n",
    "                    if t>0:\n",
    "                        \n",
    "                        decoder_target_data[i, t - 1, target_token_index[word]] = 1.\n",
    "            yield([encoder_input_data, decoder_input_data], decoder_target_data)"
   ]
  },
  {
   "cell_type": "code",
   "execution_count": 37,
   "metadata": {
    "papermill": {
     "duration": 1.110093,
     "end_time": "2020-09-23T09:39:16.791712",
     "exception": false,
     "start_time": "2020-09-23T09:39:15.681619",
     "status": "completed"
    },
    "tags": []
   },
   "outputs": [
    {
     "name": "stdout",
     "output_type": "stream",
     "text": [
      "Metal device set to: Apple M1\n"
     ]
    },
    {
     "name": "stderr",
     "output_type": "stream",
     "text": [
      "2022-12-13 19:27:41.248779: I tensorflow/core/common_runtime/pluggable_device/pluggable_device_factory.cc:306] Could not identify NUMA node of platform GPU ID 0, defaulting to 0. Your kernel may not have been built with NUMA support.\n",
      "2022-12-13 19:27:41.249414: I tensorflow/core/common_runtime/pluggable_device/pluggable_device_factory.cc:272] Created TensorFlow device (/job:localhost/replica:0/task:0/device:GPU:0 with 0 MB memory) -> physical PluggableDevice (device: 0, name: METAL, pci bus id: <undefined>)\n"
     ]
    }
   ],
   "source": [
    "latent_dim = 300\n",
    "encoder_inputs = Input(shape=(None,))\n",
    "enc_emb =  Embedding(num_encoder_tokens+1, latent_dim, mask_zero = True)(encoder_inputs)\n",
    "encoder_lstm = LSTM(latent_dim, return_state=True)\n",
    "encoder_outputs, state_h, state_c = encoder_lstm(enc_emb)\n",
    "encoder_states = [state_h, state_c]\n",
    "decoder_inputs = Input(shape=(None,))\n",
    "dec_emb_layer = Embedding(num_decoder_tokens+1, latent_dim, mask_zero = True)\n",
    "dec_emb = dec_emb_layer(decoder_inputs)\n",
    "decoder_lstm = LSTM(latent_dim, return_sequences=True, return_state=True)\n",
    "decoder_outputs, _, _ = decoder_lstm(dec_emb,initial_state=encoder_states)\n",
    "decoder_dense = Dense(num_decoder_tokens, activation='softmax')\n",
    "decoder_outputs = decoder_dense(decoder_outputs)\n",
    "model = Model([encoder_inputs, decoder_inputs], decoder_outputs)"
   ]
  },
  {
   "cell_type": "code",
   "execution_count": 38,
   "metadata": {
    "papermill": {
     "duration": 0.070214,
     "end_time": "2020-09-23T09:39:17.924937",
     "exception": false,
     "start_time": "2020-09-23T09:39:17.854723",
     "status": "completed"
    },
    "tags": []
   },
   "outputs": [],
   "source": [
    "model.compile(optimizer='adam', loss='categorical_crossentropy',metrics=['accuracy'])"
   ]
  },
  {
   "cell_type": "code",
   "execution_count": 39,
   "metadata": {
    "papermill": {
     "duration": 0.065645,
     "end_time": "2020-09-23T09:39:18.040987",
     "exception": false,
     "start_time": "2020-09-23T09:39:17.975342",
     "status": "completed"
    },
    "tags": []
   },
   "outputs": [
    {
     "name": "stdout",
     "output_type": "stream",
     "text": [
      "Model: \"model\"\n",
      "__________________________________________________________________________________________________\n",
      " Layer (type)                   Output Shape         Param #     Connected to                     \n",
      "==================================================================================================\n",
      " input_1 (InputLayer)           [(None, None)]       0           []                               \n",
      "                                                                                                  \n",
      " input_2 (InputLayer)           [(None, None)]       0           []                               \n",
      "                                                                                                  \n",
      " embedding (Embedding)          (None, None, 300)    806400      ['input_1[0][0]']                \n",
      "                                                                                                  \n",
      " embedding_1 (Embedding)        (None, None, 300)    1032000     ['input_2[0][0]']                \n",
      "                                                                                                  \n",
      " lstm (LSTM)                    [(None, 300),        721200      ['embedding[0][0]']              \n",
      "                                 (None, 300),                                                     \n",
      "                                 (None, 300)]                                                     \n",
      "                                                                                                  \n",
      " lstm_1 (LSTM)                  [(None, None, 300),  721200      ['embedding_1[0][0]',            \n",
      "                                 (None, 300),                     'lstm[0][1]',                   \n",
      "                                 (None, 300)]                     'lstm[0][2]']                   \n",
      "                                                                                                  \n",
      " dense (Dense)                  (None, None, 3439)   1035139     ['lstm_1[0][0]']                 \n",
      "                                                                                                  \n",
      "==================================================================================================\n",
      "Total params: 4,315,939\n",
      "Trainable params: 4,315,939\n",
      "Non-trainable params: 0\n",
      "__________________________________________________________________________________________________\n"
     ]
    }
   ],
   "source": [
    "model.summary()\n",
    "train_samples = len(X_train)\n",
    "val_samples = len(X_test)\n",
    "batch_size = 64\n",
    "epochs = 20"
   ]
  },
  {
   "cell_type": "code",
   "execution_count": 40,
   "metadata": {},
   "outputs": [
    {
     "data": {
      "image/png": "[encoded data removed]",
      "text/plain": [
       "<IPython.core.display.Image object>"
      ]
     },
     "execution_count": 40,
     "metadata": {},
     "output_type": "execute_result"
    }
   ],
   "source": [
    "keras.utils.plot_model(model,show_shapes=True)"
   ]
  },
  {
   "cell_type": "code",
   "execution_count": 41,
   "metadata": {
    "papermill": {
     "duration": 0.098204,
     "end_time": "2020-09-23T09:39:18.189163",
     "exception": false,
     "start_time": "2020-09-23T09:39:18.090959",
     "status": "completed"
    },
    "tags": []
   },
   "outputs": [],
   "source": [
    "model.save('eng-to-hindi.h5')"
   ]
  },
  {
   "cell_type": "code",
   "execution_count": 42,
   "metadata": {
    "papermill": {
     "duration": 0.079456,
     "end_time": "2020-09-23T09:39:18.319138",
     "exception": false,
     "start_time": "2020-09-23T09:39:18.239682",
     "status": "completed"
    },
    "tags": []
   },
   "outputs": [],
   "source": [
    "a, b = next(generate_batch())"
   ]
  },
  {
   "cell_type": "code",
   "execution_count": 43,
   "metadata": {
    "papermill": {
     "duration": 0.072144,
     "end_time": "2020-09-23T09:39:18.567210",
     "exception": false,
     "start_time": "2020-09-23T09:39:18.495066",
     "status": "completed"
    },
    "tags": []
   },
   "outputs": [
    {
     "data": {
      "text/plain": [
       "'a list of plugins that are disabled by default'"
      ]
     },
     "execution_count": 43,
     "metadata": {},
     "output_type": "execute_result"
    }
   ],
   "source": [
    "X_train[4]"
   ]
  },
  {
   "cell_type": "code",
   "execution_count": 44,
   "metadata": {
    "papermill": {
     "duration": 12510.406155,
     "end_time": "2020-09-23T13:07:49.026162",
     "exception": false,
     "start_time": "2020-09-23T09:39:18.620007",
     "status": "completed"
    },
    "tags": []
   },
   "outputs": [
    {
     "name": "stdout",
     "output_type": "stream",
     "text": [
      "Epoch 1/20\n"
     ]
    },
    {
     "name": "stderr",
     "output_type": "stream",
     "text": [
      "2022-12-13 19:27:47.548126: W tensorflow/core/platform/profile_utils/cpu_utils.cc:128] Failed to get CPU frequency: 0 Hz\n",
      "2022-12-13 19:27:49.254172: I tensorflow/core/grappler/optimizers/custom_graph_optimizer_registry.cc:114] Plugin optimizer for device_type GPU is enabled.\n",
      "2022-12-13 19:27:49.643445: W tensorflow/core/common_runtime/forward_type_inference.cc:332] Type inference failed. This indicates an invalid graph that escaped type checking. Error message: INVALID_ARGUMENT: expected compatible input types, but input 1:\n",
      "type_id: TFT_OPTIONAL\n",
      "args {\n",
      "  type_id: TFT_PRODUCT\n",
      "  args {\n",
      "    type_id: TFT_TENSOR\n",
      "    args {\n",
      "      type_id: TFT_INT32\n",
      "    }\n",
      "  }\n",
      "}\n",
      " is neither a subtype nor a supertype of the combined inputs preceding it:\n",
      "type_id: TFT_OPTIONAL\n",
      "args {\n",
      "  type_id: TFT_PRODUCT\n",
      "  args {\n",
      "    type_id: TFT_TENSOR\n",
      "    args {\n",
      "      type_id: TFT_FLOAT\n",
      "    }\n",
      "  }\n",
      "}\n",
      "\n",
      "\twhile inferring type of node 'cond_40/output/_23'\n",
      "2022-12-13 19:27:49.646906: I tensorflow/core/grappler/optimizers/custom_graph_optimizer_registry.cc:114] Plugin optimizer for device_type GPU is enabled.\n",
      "2022-12-13 19:27:49.881991: I tensorflow/core/grappler/optimizers/custom_graph_optimizer_registry.cc:114] Plugin optimizer for device_type GPU is enabled.\n",
      "2022-12-13 19:27:50.139104: I tensorflow/core/grappler/optimizers/custom_graph_optimizer_registry.cc:114] Plugin optimizer for device_type GPU is enabled.\n",
      "2022-12-13 19:27:50.355941: I tensorflow/core/grappler/optimizers/custom_graph_optimizer_registry.cc:114] Plugin optimizer for device_type GPU is enabled.\n"
     ]
    },
    {
     "name": "stdout",
     "output_type": "stream",
     "text": [
      "371/370 [==============================] - ETA: 0s - loss: 1.1106 - accuracy: 0.2499"
     ]
    },
    {
     "name": "stderr",
     "output_type": "stream",
     "text": [
      "2022-12-13 19:28:50.521606: I tensorflow/core/grappler/optimizers/custom_graph_optimizer_registry.cc:114] Plugin optimizer for device_type GPU is enabled.\n",
      "2022-12-13 19:28:50.710610: I tensorflow/core/grappler/optimizers/custom_graph_optimizer_registry.cc:114] Plugin optimizer for device_type GPU is enabled.\n",
      "2022-12-13 19:28:50.828434: I tensorflow/core/grappler/optimizers/custom_graph_optimizer_registry.cc:114] Plugin optimizer for device_type GPU is enabled.\n"
     ]
    },
    {
     "name": "stdout",
     "output_type": "stream",
     "text": [
      "370/370 [==============================] - 67s 174ms/step - loss: 1.1106 - accuracy: 0.2499 - val_loss: 0.9640 - val_accuracy: 0.2952\n",
      "Epoch 2/20\n",
      "370/370 [==============================] - 60s 163ms/step - loss: 0.8991 - accuracy: 0.3261 - val_loss: 0.8325 - val_accuracy: 0.3549\n",
      "Epoch 3/20\n",
      "370/370 [==============================] - 60s 162ms/step - loss: 0.7775 - accuracy: 0.3756 - val_loss: 0.7401 - val_accuracy: 0.3955\n",
      "Epoch 4/20\n",
      "370/370 [==============================] - 63s 171ms/step - loss: 0.6741 - accuracy: 0.4309 - val_loss: 0.6407 - val_accuracy: 0.4535\n",
      "Epoch 5/20\n",
      "370/370 [==============================] - 64s 173ms/step - loss: 0.5639 - accuracy: 0.5008 - val_loss: 0.5475 - val_accuracy: 0.5148\n",
      "Epoch 6/20\n",
      "370/370 [==============================] - 61s 165ms/step - loss: 0.4690 - accuracy: 0.5676 - val_loss: 0.4707 - val_accuracy: 0.5782\n",
      "Epoch 7/20\n",
      "370/370 [==============================] - 59s 159ms/step - loss: 0.3950 - accuracy: 0.6255 - val_loss: 0.4154 - val_accuracy: 0.6262\n",
      "Epoch 8/20\n",
      "370/370 [==============================] - 59s 160ms/step - loss: 0.3359 - accuracy: 0.6775 - val_loss: 0.3684 - val_accuracy: 0.6705\n",
      "Epoch 9/20\n",
      "370/370 [==============================] - 59s 160ms/step - loss: 0.2835 - accuracy: 0.7248 - val_loss: 0.3277 - val_accuracy: 0.7110\n",
      "Epoch 10/20\n",
      "370/370 [==============================] - 60s 163ms/step - loss: 0.2419 - accuracy: 0.7652 - val_loss: 0.2956 - val_accuracy: 0.7429\n",
      "Epoch 11/20\n",
      "370/370 [==============================] - 59s 160ms/step - loss: 0.2000 - accuracy: 0.8058 - val_loss: 0.2583 - val_accuracy: 0.7838\n",
      "Epoch 12/20\n",
      "370/370 [==============================] - 59s 160ms/step - loss: 0.1666 - accuracy: 0.8384 - val_loss: 0.2378 - val_accuracy: 0.8046\n",
      "Epoch 13/20\n",
      "370/370 [==============================] - 59s 160ms/step - loss: 0.1402 - accuracy: 0.8646 - val_loss: 0.2181 - val_accuracy: 0.8268\n",
      "Epoch 14/20\n",
      "370/370 [==============================] - 60s 162ms/step - loss: 0.1187 - accuracy: 0.8855 - val_loss: 0.2014 - val_accuracy: 0.8467\n",
      "Epoch 15/20\n",
      "370/370 [==============================] - 59s 160ms/step - loss: 0.1008 - accuracy: 0.9013 - val_loss: 0.1914 - val_accuracy: 0.8579\n",
      "Epoch 16/20\n",
      "370/370 [==============================] - 59s 160ms/step - loss: 0.0868 - accuracy: 0.9142 - val_loss: 0.1830 - val_accuracy: 0.8681\n",
      "Epoch 17/20\n",
      "370/370 [==============================] - 59s 161ms/step - loss: 0.0777 - accuracy: 0.9212 - val_loss: 0.1771 - val_accuracy: 0.8735\n",
      "Epoch 18/20\n",
      "370/370 [==============================] - 59s 160ms/step - loss: 0.0676 - accuracy: 0.9298 - val_loss: 0.1711 - val_accuracy: 0.8798\n",
      "Epoch 19/20\n",
      "370/370 [==============================] - 59s 160ms/step - loss: 0.0599 - accuracy: 0.9364 - val_loss: 0.1668 - val_accuracy: 0.8844\n",
      "Epoch 20/20\n",
      "370/370 [==============================] - 59s 160ms/step - loss: 0.0531 - accuracy: 0.9418 - val_loss: 0.1644 - val_accuracy: 0.8876\n"
     ]
    }
   ],
   "source": [
    "h = model.fit_generator(generator = generate_batch(X_train, y_train, batch_size = batch_size),\n",
    "                    steps_per_epoch = train_samples/batch_size,\n",
    "                    epochs=20,\n",
    "                    validation_data = generate_batch(X_test, y_test, batch_size = batch_size),\n",
    "                    validation_steps = val_samples/batch_size)"
   ]
  },
  {
   "cell_type": "code",
   "execution_count": 45,
   "metadata": {},
   "outputs": [
    {
     "data": {
      "image/png": "[encoded data removed]",
      "text/plain": [
       "<Figure size 800x800 with 1 Axes>"
      ]
     },
     "metadata": {},
     "output_type": "display_data"
    }
   ],
   "source": [
    "acc = h.history['accuracy']\n",
    "val_acc = h.history['val_accuracy']\n",
    "\n",
    "loss = h.history['loss']\n",
    "val_loss = h.history['val_loss']\n",
    "\n",
    "plt.figure(figsize=(8, 8))\n",
    "plt.subplot(2, 1, 1)\n",
    "plt.plot(acc, label='Training Accuracy')\n",
    "plt.plot(val_acc, label='Validation Accuracy')\n",
    "plt.legend(loc='lower right')\n",
    "plt.ylabel('Accuracy')\n",
    "plt.ylim([min(plt.ylim()),1])\n",
    "plt.title('Training and Validation Accuracy')\n",
    "\n",
    "\n",
    "plt.show()"
   ]
  },
  {
   "cell_type": "code",
   "execution_count": 46,
   "metadata": {},
   "outputs": [
    {
     "data": {
      "text/plain": [
       "Text(0.5, 1.0, 'Training and Validation Loss')"
      ]
     },
     "execution_count": 46,
     "metadata": {},
     "output_type": "execute_result"
    },
    {
     "data": {
      "image/png": "[encoded data removed]",
      "text/plain": [
       "<Figure size 800x800 with 1 Axes>"
      ]
     },
     "metadata": {},
     "output_type": "display_data"
    }
   ],
   "source": [
    "plt.figure(figsize=(8, 8))\n",
    "plt.subplot(2, 1, 1)\n",
    "plt.plot(loss, label='Training Loss')\n",
    "plt.plot(val_loss, label='Validation Loss')\n",
    "plt.legend(loc='lower right')\n",
    "plt.ylabel('Loss')\n",
    "plt.ylim([min(plt.ylim()),1])\n",
    "plt.title('Training and Validation Loss')"
   ]
  },
  {
   "cell_type": "code",
   "execution_count": 47,
   "metadata": {},
   "outputs": [
    {
     "data": {
      "text/html": [
       "<div>\n",
       "<style scoped>\n",
       "    .dataframe tbody tr th:only-of-type {\n",
       "        vertical-align: middle;\n",
       "    }\n",
       "\n",
       "    .dataframe tbody tr th {\n",
       "        vertical-align: top;\n",
       "    }\n",
       "\n",
       "    .dataframe thead th {\n",
       "        text-align: right;\n",
       "    }\n",
       "</style>\n",
       "<table border=\"1\" class=\"dataframe\">\n",
       "  <thead>\n",
       "    <tr style=\"text-align: right;\">\n",
       "      <th></th>\n",
       "      <th>Epochs</th>\n",
       "      <th>Accuracy</th>\n",
       "      <th>Loss</th>\n",
       "    </tr>\n",
       "  </thead>\n",
       "  <tbody>\n",
       "    <tr>\n",
       "      <th>0</th>\n",
       "      <td>1</td>\n",
       "      <td>0.251309</td>\n",
       "      <td>1.108800</td>\n",
       "    </tr>\n",
       "    <tr>\n",
       "      <th>1</th>\n",
       "      <td>2</td>\n",
       "      <td>0.326054</td>\n",
       "      <td>0.896438</td>\n",
       "    </tr>\n",
       "    <tr>\n",
       "      <th>2</th>\n",
       "      <td>3</td>\n",
       "      <td>0.377196</td>\n",
       "      <td>0.775492</td>\n",
       "    </tr>\n",
       "    <tr>\n",
       "      <th>3</th>\n",
       "      <td>4</td>\n",
       "      <td>0.438487</td>\n",
       "      <td>0.664204</td>\n",
       "    </tr>\n",
       "    <tr>\n",
       "      <th>4</th>\n",
       "      <td>5</td>\n",
       "      <td>0.504374</td>\n",
       "      <td>0.559180</td>\n",
       "    </tr>\n",
       "    <tr>\n",
       "      <th>5</th>\n",
       "      <td>6</td>\n",
       "      <td>0.564186</td>\n",
       "      <td>0.475431</td>\n",
       "    </tr>\n",
       "    <tr>\n",
       "      <th>6</th>\n",
       "      <td>7</td>\n",
       "      <td>0.606618</td>\n",
       "      <td>0.420596</td>\n",
       "    </tr>\n",
       "    <tr>\n",
       "      <th>7</th>\n",
       "      <td>8</td>\n",
       "      <td>0.662060</td>\n",
       "      <td>0.349234</td>\n",
       "    </tr>\n",
       "    <tr>\n",
       "      <th>8</th>\n",
       "      <td>9</td>\n",
       "      <td>0.706801</td>\n",
       "      <td>0.296290</td>\n",
       "    </tr>\n",
       "    <tr>\n",
       "      <th>9</th>\n",
       "      <td>10</td>\n",
       "      <td>0.748010</td>\n",
       "      <td>0.251136</td>\n",
       "    </tr>\n",
       "    <tr>\n",
       "      <th>10</th>\n",
       "      <td>11</td>\n",
       "      <td>0.778922</td>\n",
       "      <td>0.218776</td>\n",
       "    </tr>\n",
       "    <tr>\n",
       "      <th>11</th>\n",
       "      <td>12</td>\n",
       "      <td>0.788302</td>\n",
       "      <td>0.206714</td>\n",
       "    </tr>\n",
       "    <tr>\n",
       "      <th>12</th>\n",
       "      <td>13</td>\n",
       "      <td>0.836583</td>\n",
       "      <td>0.162663</td>\n",
       "    </tr>\n",
       "    <tr>\n",
       "      <th>13</th>\n",
       "      <td>14</td>\n",
       "      <td>0.857168</td>\n",
       "      <td>0.141772</td>\n",
       "    </tr>\n",
       "    <tr>\n",
       "      <th>14</th>\n",
       "      <td>15</td>\n",
       "      <td>0.883701</td>\n",
       "      <td>0.117076</td>\n",
       "    </tr>\n",
       "    <tr>\n",
       "      <th>15</th>\n",
       "      <td>16</td>\n",
       "      <td>0.901553</td>\n",
       "      <td>0.099832</td>\n",
       "    </tr>\n",
       "    <tr>\n",
       "      <th>16</th>\n",
       "      <td>17</td>\n",
       "      <td>0.911358</td>\n",
       "      <td>0.088874</td>\n",
       "    </tr>\n",
       "    <tr>\n",
       "      <th>17</th>\n",
       "      <td>18</td>\n",
       "      <td>0.919594</td>\n",
       "      <td>0.079077</td>\n",
       "    </tr>\n",
       "    <tr>\n",
       "      <th>18</th>\n",
       "      <td>19</td>\n",
       "      <td>0.927731</td>\n",
       "      <td>0.070081</td>\n",
       "    </tr>\n",
       "    <tr>\n",
       "      <th>19</th>\n",
       "      <td>20</td>\n",
       "      <td>0.935839</td>\n",
       "      <td>0.061260</td>\n",
       "    </tr>\n",
       "  </tbody>\n",
       "</table>\n",
       "</div>"
      ],
      "text/plain": [
       "    Epochs  Accuracy      Loss\n",
       "0        1  0.251309  1.108800\n",
       "1        2  0.326054  0.896438\n",
       "2        3  0.377196  0.775492\n",
       "3        4  0.438487  0.664204\n",
       "4        5  0.504374  0.559180\n",
       "5        6  0.564186  0.475431\n",
       "6        7  0.606618  0.420596\n",
       "7        8  0.662060  0.349234\n",
       "8        9  0.706801  0.296290\n",
       "9       10  0.748010  0.251136\n",
       "10      11  0.778922  0.218776\n",
       "11      12  0.788302  0.206714\n",
       "12      13  0.836583  0.162663\n",
       "13      14  0.857168  0.141772\n",
       "14      15  0.883701  0.117076\n",
       "15      16  0.901553  0.099832\n",
       "16      17  0.911358  0.088874\n",
       "17      18  0.919594  0.079077\n",
       "18      19  0.927731  0.070081\n",
       "19      20  0.935839  0.061260"
      ]
     },
     "execution_count": 47,
     "metadata": {},
     "output_type": "execute_result"
    }
   ],
   "source": [
    "d = {'Epochs':[1,2,3,4,5,6,7,8,9,10,11,12,13,14,15,16,17,18,19,20], 'Accuracy': acc, 'Loss':loss}\n",
    "df = pd.DataFrame(data =d)\n",
    "df.reset_index(drop=True, inplace=True)\n",
    "df"
   ]
  },
  {
   "cell_type": "code",
   "execution_count": null,
   "metadata": {},
   "outputs": [],
   "source": [
    "train_gen = generate_batch(X_train, y_train, batch_size = 1)\n",
    "k=-1"
   ]
  },
  {
   "cell_type": "code",
   "execution_count": 38,
   "metadata": {},
   "outputs": [],
   "source": [
    "encoder_model = Model(encoder_inputs, encoder_states)\n",
    "\n",
    "# Decoder setup\n",
    "# Below tensors will hold the states of the previous time step\n",
    "decoder_state_input_h = Input(shape=(latent_dim,))\n",
    "decoder_state_input_c = Input(shape=(latent_dim,))\n",
    "decoder_states_inputs = [decoder_state_input_h, decoder_state_input_c]\n",
    "\n",
    "dec_emb2= dec_emb_layer(decoder_inputs) # Get the embeddings of the decoder sequence\n",
    "\n",
    "# To predict the next word in the sequence, set the initial states to the states from the previous time step\n",
    "decoder_outputs2, state_h2, state_c2 = decoder_lstm(dec_emb2, initial_state=decoder_states_inputs)\n",
    "decoder_states2 = [state_h2, state_c2]\n",
    "decoder_outputs2 = decoder_dense(decoder_outputs2) \n",
    "\n",
    "\n",
    "decoder_model = Model(\n",
    "    [decoder_inputs] + decoder_states_inputs,\n",
    "    [decoder_outputs2] + decoder_states2)"
   ]
  },
  {
   "cell_type": "code",
   "execution_count": 39,
   "metadata": {},
   "outputs": [],
   "source": [
    "def decode_sequence(input_seq):\n",
    "  \n",
    "    states_value = encoder_model.predict(input_seq)\n",
    "  \n",
    "    target_seq = np.zeros((1,1))\n",
    " \n",
    "    target_seq[0, 0] = target_token_index['START_']\n",
    "\n",
    "   \n",
    "    stop_condition = False\n",
    "    decoded_sentence = ''\n",
    "    while not stop_condition:\n",
    "        output_tokens, h, c = decoder_model.predict([target_seq] + states_value)\n",
    "\n",
    "       \n",
    "        sampled_token_index = np.argmax(output_tokens[0, -1, :])\n",
    "        sampled_char = reverse_target_char_index[sampled_token_index]\n",
    "        decoded_sentence += ' '+sampled_char\n",
    "\n",
    "      \n",
    "        if (sampled_char == '_END' or\n",
    "           len(decoded_sentence) > 50):\n",
    "            stop_condition = True\n",
    "\n",
    "\n",
    "        target_seq = np.zeros((1,1))\n",
    "        target_seq[0, 0] = sampled_token_index\n",
    "\n",
    "\n",
    "        states_value = [h, c]\n",
    "\n",
    "    return decoded_sentence"
   ]
  },
  {
   "cell_type": "code",
   "execution_count": 40,
   "metadata": {},
   "outputs": [
    {
     "name": "stdout",
     "output_type": "stream",
     "text": [
      "1/1 [==============================] - 0s 454ms/step\n"
     ]
    },
    {
     "name": "stderr",
     "output_type": "stream",
     "text": [
      "2022-11-23 11:33:57.380481: I tensorflow/core/grappler/optimizers/custom_graph_optimizer_registry.cc:114] Plugin optimizer for device_type GPU is enabled.\n",
      "2022-11-23 11:33:57.463513: I tensorflow/core/grappler/optimizers/custom_graph_optimizer_registry.cc:114] Plugin optimizer for device_type GPU is enabled.\n"
     ]
    },
    {
     "name": "stdout",
     "output_type": "stream",
     "text": [
      "1/1 [==============================] - 0s 451ms/step\n"
     ]
    },
    {
     "name": "stderr",
     "output_type": "stream",
     "text": [
      "2022-11-23 11:33:57.850309: I tensorflow/core/grappler/optimizers/custom_graph_optimizer_registry.cc:114] Plugin optimizer for device_type GPU is enabled.\n",
      "2022-11-23 11:33:57.942586: I tensorflow/core/grappler/optimizers/custom_graph_optimizer_registry.cc:114] Plugin optimizer for device_type GPU is enabled.\n"
     ]
    },
    {
     "name": "stdout",
     "output_type": "stream",
     "text": [
      "1/1 [==============================] - 0s 24ms/step\n",
      "1/1 [==============================] - 0s 20ms/step\n",
      "Input English sentence: merged s\n",
      "Actual Hindi Translation:  मिलाया से \n",
      "Predicted Hindi Translation:  मिलाया से \n"
     ]
    }
   ],
   "source": [
    "k+=1\n",
    "(input_seq, actual_output), _ = next(train_gen)\n",
    "decoded_sentence = decode_sequence(input_seq)\n",
    "print('Input English sentence:', X_train[k:k+1].values[0])\n",
    "print('Actual Hindi Translation:', y_train[k:k+1].values[0][6:-4])\n",
    "print('Predicted Hindi Translation:', decoded_sentence[:-4])"
   ]
  },
  {
   "cell_type": "code",
   "execution_count": 42,
   "metadata": {},
   "outputs": [
    {
     "name": "stdout",
     "output_type": "stream",
     "text": [
      "1/1 [==============================] - 0s 27ms/step\n",
      "1/1 [==============================] - 0s 20ms/step\n",
      "1/1 [==============================] - 0s 15ms/step\n",
      "1/1 [==============================] - 0s 15ms/step\n",
      "1/1 [==============================] - 0s 21ms/step\n",
      "1/1 [==============================] - 0s 14ms/step\n",
      "1/1 [==============================] - 0s 15ms/step\n",
      "1/1 [==============================] - 0s 18ms/step\n",
      "1/1 [==============================] - 0s 13ms/step\n",
      "1/1 [==============================] - 0s 13ms/step\n",
      "1/1 [==============================] - 0s 13ms/step\n",
      "Input English sentence: move a onto the jack of diamonds\n",
      "Actual Hindi Translation:  a को एक ईंट का गुलाम पर ले जाएँ \n",
      "Predicted Hindi Translation:  a को एक ईंट का इक्का पर ले जाएँ \n"
     ]
    }
   ],
   "source": [
    "k+=1\n",
    "(input_seq, actual_output), _ = next(train_gen)\n",
    "decoded_sentence = decode_sequence(input_seq)\n",
    "print('Input English sentence:', X_train[k:k+1].values[0])\n",
    "print('Actual Hindi Translation:', y_train[k:k+1].values[0][6:-4])\n",
    "print('Predicted Hindi Translation:', decoded_sentence[:-4])"
   ]
  },
  {
   "cell_type": "code",
   "execution_count": null,
   "metadata": {},
   "outputs": [],
   "source": [
    "from sklearn.metrics import precision_score, recall_score, f1_score, accuracy_score"
   ]
  }
 ],
 "metadata": {
  "kernelspec": {
   "display_name": "Python 3 (ipykernel)",
   "language": "python",
   "name": "python3"
  },
  "language_info": {
   "codemirror_mode": {
    "name": "ipython",
    "version": 3
   },
   "file_extension": ".py",
   "mimetype": "text/x-python",
   "name": "python",
   "nbconvert_exporter": "python",
   "pygments_lexer": "ipython3",
   "version": "3.10.6"
  },
  "papermill": {
   "duration": 12695.219492,
   "end_time": "2020-09-23T13:10:28.354384",
   "environment_variables": {},
   "exception": null,
   "input_path": "__notebook__.ipynb",
   "output_path": "__notebook__.ipynb",
   "parameters": {},
   "start_time": "2020-09-23T09:38:53.134892",
   "version": "2.1.0"
  }
 },
 "nbformat": 4,
 "nbformat_minor": 4
}
