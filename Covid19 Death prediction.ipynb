{
 "cells": [
  {
   "cell_type": "markdown",
   "id": "90f87f67",
   "metadata": {},
   "source": [
    "Tribhangin Dichpally - 20BCI7033"
   ]
  },
  {
   "cell_type": "code",
   "execution_count": 1,
   "id": "821bd545",
   "metadata": {},
   "outputs": [],
   "source": [
    "import pandas as pd\n",
    "import numpy as np\n",
    "from sklearn.linear_model import LinearRegression\n",
    "from sklearn.model_selection import train_test_split\n",
    "import sklearn.metrics as m \n",
    "from sklearn import preprocessing\n",
    "from sklearn.preprocessing import scale\n",
    "from sklearn.svm import SVR\n",
    "from sklearn.neighbors import KNeighborsRegressor\n",
    "from sklearn.preprocessing import PolynomialFeatures\n",
    "import matplotlib.pyplot as plt\n",
    "import sklearn.metrics as m \n",
    "import seaborn as sns\n"
   ]
  },
  {
   "cell_type": "code",
   "execution_count": 2,
   "id": "704db095",
   "metadata": {},
   "outputs": [
    {
     "data": {
      "text/html": [
       "<div>\n",
       "<style scoped>\n",
       "    .dataframe tbody tr th:only-of-type {\n",
       "        vertical-align: middle;\n",
       "    }\n",
       "\n",
       "    .dataframe tbody tr th {\n",
       "        vertical-align: top;\n",
       "    }\n",
       "\n",
       "    .dataframe thead th {\n",
       "        text-align: right;\n",
       "    }\n",
       "</style>\n",
       "<table border=\"1\" class=\"dataframe\">\n",
       "  <thead>\n",
       "    <tr style=\"text-align: right;\">\n",
       "      <th></th>\n",
       "      <th>SNo</th>\n",
       "      <th>ObservationDate</th>\n",
       "      <th>Province/State</th>\n",
       "      <th>Country/Region</th>\n",
       "      <th>Last Update</th>\n",
       "      <th>Confirmed</th>\n",
       "      <th>Deaths</th>\n",
       "      <th>Recovered</th>\n",
       "    </tr>\n",
       "  </thead>\n",
       "  <tbody>\n",
       "    <tr>\n",
       "      <th>0</th>\n",
       "      <td>1</td>\n",
       "      <td>01/22/2020</td>\n",
       "      <td>Anhui</td>\n",
       "      <td>Mainland China</td>\n",
       "      <td>1/22/2020 17:00</td>\n",
       "      <td>1.0</td>\n",
       "      <td>0.0</td>\n",
       "      <td>0.0</td>\n",
       "    </tr>\n",
       "    <tr>\n",
       "      <th>1</th>\n",
       "      <td>2</td>\n",
       "      <td>01/22/2020</td>\n",
       "      <td>Beijing</td>\n",
       "      <td>Mainland China</td>\n",
       "      <td>1/22/2020 17:00</td>\n",
       "      <td>14.0</td>\n",
       "      <td>0.0</td>\n",
       "      <td>0.0</td>\n",
       "    </tr>\n",
       "    <tr>\n",
       "      <th>2</th>\n",
       "      <td>3</td>\n",
       "      <td>01/22/2020</td>\n",
       "      <td>Chongqing</td>\n",
       "      <td>Mainland China</td>\n",
       "      <td>1/22/2020 17:00</td>\n",
       "      <td>6.0</td>\n",
       "      <td>0.0</td>\n",
       "      <td>0.0</td>\n",
       "    </tr>\n",
       "    <tr>\n",
       "      <th>3</th>\n",
       "      <td>4</td>\n",
       "      <td>01/22/2020</td>\n",
       "      <td>Fujian</td>\n",
       "      <td>Mainland China</td>\n",
       "      <td>1/22/2020 17:00</td>\n",
       "      <td>1.0</td>\n",
       "      <td>0.0</td>\n",
       "      <td>0.0</td>\n",
       "    </tr>\n",
       "    <tr>\n",
       "      <th>4</th>\n",
       "      <td>5</td>\n",
       "      <td>01/22/2020</td>\n",
       "      <td>Gansu</td>\n",
       "      <td>Mainland China</td>\n",
       "      <td>1/22/2020 17:00</td>\n",
       "      <td>0.0</td>\n",
       "      <td>0.0</td>\n",
       "      <td>0.0</td>\n",
       "    </tr>\n",
       "  </tbody>\n",
       "</table>\n",
       "</div>"
      ],
      "text/plain": [
       "   SNo ObservationDate Province/State  Country/Region      Last Update  \\\n",
       "0    1      01/22/2020          Anhui  Mainland China  1/22/2020 17:00   \n",
       "1    2      01/22/2020        Beijing  Mainland China  1/22/2020 17:00   \n",
       "2    3      01/22/2020      Chongqing  Mainland China  1/22/2020 17:00   \n",
       "3    4      01/22/2020         Fujian  Mainland China  1/22/2020 17:00   \n",
       "4    5      01/22/2020          Gansu  Mainland China  1/22/2020 17:00   \n",
       "\n",
       "   Confirmed  Deaths  Recovered  \n",
       "0        1.0     0.0        0.0  \n",
       "1       14.0     0.0        0.0  \n",
       "2        6.0     0.0        0.0  \n",
       "3        1.0     0.0        0.0  \n",
       "4        0.0     0.0        0.0  "
      ]
     },
     "execution_count": 2,
     "metadata": {},
     "output_type": "execute_result"
    }
   ],
   "source": [
    "covid = pd.read_csv(\"covid_19_data.csv\")\n",
    "covid.head()\n"
   ]
  },
  {
   "cell_type": "code",
   "execution_count": 5,
   "id": "aa042360",
   "metadata": {},
   "outputs": [
    {
     "name": "stdout",
     "output_type": "stream",
     "text": [
      "Size/Shape of the dataset:  (306429, 8)\n",
      "Checking for null values:\n",
      " SNo                    0\n",
      "ObservationDate        0\n",
      "Province/State     78100\n",
      "Country/Region         0\n",
      "Last Update            0\n",
      "Confirmed              0\n",
      "Deaths                 0\n",
      "Recovered              0\n",
      "dtype: int64\n",
      "Checking Data-type of each column:\n",
      " SNo                  int64\n",
      "ObservationDate     object\n",
      "Province/State      object\n",
      "Country/Region      object\n",
      "Last Update         object\n",
      "Confirmed          float64\n",
      "Deaths             float64\n",
      "Recovered          float64\n",
      "dtype: object\n"
     ]
    }
   ],
   "source": [
    "print(\"Size/Shape of the dataset: \",covid.shape)\n",
    "print(\"Checking for null values:\\n\",covid.isnull().sum())\n",
    "print(\"Checking Data-type of each column:\\n\",covid.dtypes)"
   ]
  },
  {
   "cell_type": "markdown",
   "id": "b3ac2c5c",
   "metadata": {},
   "source": [
    "Drop Province/State due to high null values"
   ]
  },
  {
   "cell_type": "code",
   "execution_count": 6,
   "id": "7cf29355",
   "metadata": {},
   "outputs": [
    {
     "data": {
      "text/html": [
       "<div>\n",
       "<style scoped>\n",
       "    .dataframe tbody tr th:only-of-type {\n",
       "        vertical-align: middle;\n",
       "    }\n",
       "\n",
       "    .dataframe tbody tr th {\n",
       "        vertical-align: top;\n",
       "    }\n",
       "\n",
       "    .dataframe thead th {\n",
       "        text-align: right;\n",
       "    }\n",
       "</style>\n",
       "<table border=\"1\" class=\"dataframe\">\n",
       "  <thead>\n",
       "    <tr style=\"text-align: right;\">\n",
       "      <th></th>\n",
       "      <th>ObservationDate</th>\n",
       "      <th>Country/Region</th>\n",
       "      <th>Last Update</th>\n",
       "      <th>Confirmed</th>\n",
       "      <th>Deaths</th>\n",
       "      <th>Recovered</th>\n",
       "    </tr>\n",
       "  </thead>\n",
       "  <tbody>\n",
       "    <tr>\n",
       "      <th>0</th>\n",
       "      <td>01/22/2020</td>\n",
       "      <td>Mainland China</td>\n",
       "      <td>1/22/2020 17:00</td>\n",
       "      <td>1.0</td>\n",
       "      <td>0.0</td>\n",
       "      <td>0.0</td>\n",
       "    </tr>\n",
       "    <tr>\n",
       "      <th>1</th>\n",
       "      <td>01/22/2020</td>\n",
       "      <td>Mainland China</td>\n",
       "      <td>1/22/2020 17:00</td>\n",
       "      <td>14.0</td>\n",
       "      <td>0.0</td>\n",
       "      <td>0.0</td>\n",
       "    </tr>\n",
       "    <tr>\n",
       "      <th>2</th>\n",
       "      <td>01/22/2020</td>\n",
       "      <td>Mainland China</td>\n",
       "      <td>1/22/2020 17:00</td>\n",
       "      <td>6.0</td>\n",
       "      <td>0.0</td>\n",
       "      <td>0.0</td>\n",
       "    </tr>\n",
       "    <tr>\n",
       "      <th>3</th>\n",
       "      <td>01/22/2020</td>\n",
       "      <td>Mainland China</td>\n",
       "      <td>1/22/2020 17:00</td>\n",
       "      <td>1.0</td>\n",
       "      <td>0.0</td>\n",
       "      <td>0.0</td>\n",
       "    </tr>\n",
       "    <tr>\n",
       "      <th>4</th>\n",
       "      <td>01/22/2020</td>\n",
       "      <td>Mainland China</td>\n",
       "      <td>1/22/2020 17:00</td>\n",
       "      <td>0.0</td>\n",
       "      <td>0.0</td>\n",
       "      <td>0.0</td>\n",
       "    </tr>\n",
       "    <tr>\n",
       "      <th>...</th>\n",
       "      <td>...</td>\n",
       "      <td>...</td>\n",
       "      <td>...</td>\n",
       "      <td>...</td>\n",
       "      <td>...</td>\n",
       "      <td>...</td>\n",
       "    </tr>\n",
       "    <tr>\n",
       "      <th>306424</th>\n",
       "      <td>05/29/2021</td>\n",
       "      <td>Ukraine</td>\n",
       "      <td>2021-05-30 04:20:55</td>\n",
       "      <td>102641.0</td>\n",
       "      <td>2335.0</td>\n",
       "      <td>95289.0</td>\n",
       "    </tr>\n",
       "    <tr>\n",
       "      <th>306425</th>\n",
       "      <td>05/29/2021</td>\n",
       "      <td>Netherlands</td>\n",
       "      <td>2021-05-30 04:20:55</td>\n",
       "      <td>29147.0</td>\n",
       "      <td>245.0</td>\n",
       "      <td>0.0</td>\n",
       "    </tr>\n",
       "    <tr>\n",
       "      <th>306426</th>\n",
       "      <td>05/29/2021</td>\n",
       "      <td>Mainland China</td>\n",
       "      <td>2021-05-30 04:20:55</td>\n",
       "      <td>1364.0</td>\n",
       "      <td>1.0</td>\n",
       "      <td>1324.0</td>\n",
       "    </tr>\n",
       "    <tr>\n",
       "      <th>306427</th>\n",
       "      <td>05/29/2021</td>\n",
       "      <td>Ukraine</td>\n",
       "      <td>2021-05-30 04:20:55</td>\n",
       "      <td>87550.0</td>\n",
       "      <td>1738.0</td>\n",
       "      <td>83790.0</td>\n",
       "    </tr>\n",
       "    <tr>\n",
       "      <th>306428</th>\n",
       "      <td>05/29/2021</td>\n",
       "      <td>Netherlands</td>\n",
       "      <td>2021-05-30 04:20:55</td>\n",
       "      <td>391559.0</td>\n",
       "      <td>4252.0</td>\n",
       "      <td>0.0</td>\n",
       "    </tr>\n",
       "  </tbody>\n",
       "</table>\n",
       "<p>306429 rows × 6 columns</p>\n",
       "</div>"
      ],
      "text/plain": [
       "       ObservationDate  Country/Region          Last Update  Confirmed  \\\n",
       "0           01/22/2020  Mainland China      1/22/2020 17:00        1.0   \n",
       "1           01/22/2020  Mainland China      1/22/2020 17:00       14.0   \n",
       "2           01/22/2020  Mainland China      1/22/2020 17:00        6.0   \n",
       "3           01/22/2020  Mainland China      1/22/2020 17:00        1.0   \n",
       "4           01/22/2020  Mainland China      1/22/2020 17:00        0.0   \n",
       "...                ...             ...                  ...        ...   \n",
       "306424      05/29/2021         Ukraine  2021-05-30 04:20:55   102641.0   \n",
       "306425      05/29/2021     Netherlands  2021-05-30 04:20:55    29147.0   \n",
       "306426      05/29/2021  Mainland China  2021-05-30 04:20:55     1364.0   \n",
       "306427      05/29/2021         Ukraine  2021-05-30 04:20:55    87550.0   \n",
       "306428      05/29/2021     Netherlands  2021-05-30 04:20:55   391559.0   \n",
       "\n",
       "        Deaths  Recovered  \n",
       "0          0.0        0.0  \n",
       "1          0.0        0.0  \n",
       "2          0.0        0.0  \n",
       "3          0.0        0.0  \n",
       "4          0.0        0.0  \n",
       "...        ...        ...  \n",
       "306424  2335.0    95289.0  \n",
       "306425   245.0        0.0  \n",
       "306426     1.0     1324.0  \n",
       "306427  1738.0    83790.0  \n",
       "306428  4252.0        0.0  \n",
       "\n",
       "[306429 rows x 6 columns]"
      ]
     },
     "execution_count": 6,
     "metadata": {},
     "output_type": "execute_result"
    }
   ],
   "source": [
    "covid.drop(columns=[\"SNo\",\"Province/State\"])"
   ]
  },
  {
   "cell_type": "code",
   "execution_count": 7,
   "id": "b44345a0",
   "metadata": {},
   "outputs": [
    {
     "data": {
      "text/html": [
       "<div>\n",
       "<style scoped>\n",
       "    .dataframe tbody tr th:only-of-type {\n",
       "        vertical-align: middle;\n",
       "    }\n",
       "\n",
       "    .dataframe tbody tr th {\n",
       "        vertical-align: top;\n",
       "    }\n",
       "\n",
       "    .dataframe thead th {\n",
       "        text-align: right;\n",
       "    }\n",
       "</style>\n",
       "<table border=\"1\" class=\"dataframe\">\n",
       "  <thead>\n",
       "    <tr style=\"text-align: right;\">\n",
       "      <th></th>\n",
       "      <th>SNo</th>\n",
       "      <th>ObservationDate</th>\n",
       "      <th>Province/State</th>\n",
       "      <th>Country/Region</th>\n",
       "      <th>Last Update</th>\n",
       "      <th>Confirmed</th>\n",
       "      <th>Deaths</th>\n",
       "      <th>Recovered</th>\n",
       "    </tr>\n",
       "  </thead>\n",
       "  <tbody>\n",
       "    <tr>\n",
       "      <th>0</th>\n",
       "      <td>1</td>\n",
       "      <td>21</td>\n",
       "      <td>24</td>\n",
       "      <td>126</td>\n",
       "      <td>0</td>\n",
       "      <td>1.0</td>\n",
       "      <td>0.0</td>\n",
       "      <td>0.0</td>\n",
       "    </tr>\n",
       "    <tr>\n",
       "      <th>1</th>\n",
       "      <td>2</td>\n",
       "      <td>21</td>\n",
       "      <td>60</td>\n",
       "      <td>126</td>\n",
       "      <td>0</td>\n",
       "      <td>14.0</td>\n",
       "      <td>0.0</td>\n",
       "      <td>0.0</td>\n",
       "    </tr>\n",
       "    <tr>\n",
       "      <th>2</th>\n",
       "      <td>3</td>\n",
       "      <td>21</td>\n",
       "      <td>124</td>\n",
       "      <td>126</td>\n",
       "      <td>0</td>\n",
       "      <td>6.0</td>\n",
       "      <td>0.0</td>\n",
       "      <td>0.0</td>\n",
       "    </tr>\n",
       "    <tr>\n",
       "      <th>3</th>\n",
       "      <td>4</td>\n",
       "      <td>21</td>\n",
       "      <td>194</td>\n",
       "      <td>126</td>\n",
       "      <td>0</td>\n",
       "      <td>1.0</td>\n",
       "      <td>0.0</td>\n",
       "      <td>0.0</td>\n",
       "    </tr>\n",
       "    <tr>\n",
       "      <th>4</th>\n",
       "      <td>5</td>\n",
       "      <td>21</td>\n",
       "      <td>200</td>\n",
       "      <td>126</td>\n",
       "      <td>0</td>\n",
       "      <td>0.0</td>\n",
       "      <td>0.0</td>\n",
       "      <td>0.0</td>\n",
       "    </tr>\n",
       "  </tbody>\n",
       "</table>\n",
       "</div>"
      ],
      "text/plain": [
       "   SNo  ObservationDate  Province/State  Country/Region  Last Update  \\\n",
       "0    1               21              24             126            0   \n",
       "1    2               21              60             126            0   \n",
       "2    3               21             124             126            0   \n",
       "3    4               21             194             126            0   \n",
       "4    5               21             200             126            0   \n",
       "\n",
       "   Confirmed  Deaths  Recovered  \n",
       "0        1.0     0.0        0.0  \n",
       "1       14.0     0.0        0.0  \n",
       "2        6.0     0.0        0.0  \n",
       "3        1.0     0.0        0.0  \n",
       "4        0.0     0.0        0.0  "
      ]
     },
     "execution_count": 7,
     "metadata": {},
     "output_type": "execute_result"
    }
   ],
   "source": [
    "le = preprocessing.LabelEncoder()\n",
    "covid['Country/Region'] = le.fit_transform(covid['Country/Region'])\n",
    "covid['ObservationDate'] = le.fit_transform(covid['ObservationDate'])\n",
    "covid['Last Update'] = le.fit_transform(covid['Last Update'])\n",
    "covid['Province/State'] = le.fit_transform(covid['Province/State'])\n",
    "covid.head()"
   ]
  },
  {
   "cell_type": "code",
   "execution_count": 8,
   "id": "a1f94353",
   "metadata": {},
   "outputs": [
    {
     "data": {
      "image/png": "[encoded data removed]",
      "text/plain": [
       "<Figure size 720x576 with 2 Axes>"
      ]
     },
     "metadata": {
      "needs_background": "light"
     },
     "output_type": "display_data"
    }
   ],
   "source": [
    "plt.figure(figsize=(10,8))\n",
    "sns.heatmap(covid.corr(),xticklabels=True, yticklabels=True)\n",
    "plt.title(\"Correlations Between Variables\", size=15)\n",
    "plt.show()"
   ]
  },
  {
   "cell_type": "code",
   "execution_count": 9,
   "id": "0105ab10",
   "metadata": {},
   "outputs": [
    {
     "name": "stdout",
     "output_type": "stream",
     "text": [
      "['Confirmed', 'Deaths', 'Recovered']\n"
     ]
    }
   ],
   "source": [
    "important_num_cols = list(covid.corr()[\"Deaths\"][(covid.corr()[\"Deaths\"]>0.50) | (covid.corr()[\"Deaths\"]<-0.50)].index)\n",
    "print(important_num_cols)"
   ]
  },
  {
   "cell_type": "code",
   "execution_count": 10,
   "id": "8829012b",
   "metadata": {},
   "outputs": [
    {
     "name": "stdout",
     "output_type": "stream",
     "text": [
      "(214500, 2)\n",
      "(91929, 2)\n",
      "(214500,)\n",
      "(91929,)\n"
     ]
    }
   ],
   "source": [
    "feature_list = ['Confirmed','Recovered']\n",
    "X = covid[feature_list].values\n",
    "y = covid['Deaths'].values\n",
    "X_train, X_test, y_train, y_test = train_test_split(X, y, test_size = 0.3, random_state = 0)\n",
    "print(X_train.shape)\n",
    "print(X_test.shape)\n",
    "print(y_train.shape)\n",
    "print(y_test.shape)"
   ]
  },
  {
   "cell_type": "markdown",
   "id": "1cbf7c95",
   "metadata": {},
   "source": [
    "Linear Regression"
   ]
  },
  {
   "cell_type": "code",
   "execution_count": 11,
   "id": "7c6e381b",
   "metadata": {},
   "outputs": [
    {
     "name": "stdout",
     "output_type": "stream",
     "text": [
      "Tribhangin Dichpally - 20BCI7033 \n",
      "\n",
      "MSE: 8809004.165604299\n",
      "RMSE: 2967.9966586241803\n",
      "R2 Score: 0.7886200498262242\n"
     ]
    }
   ],
   "source": [
    "lr = LinearRegression()\n",
    "lr.fit(X_train, y_train)\n",
    "pred = lr.predict(X_test)\n",
    "print(\"Tribhangin Dichpally - 20BCI7033\",\"\\n\")\n",
    "print(\"MSE:\", m.mean_squared_error(y_test, pred))\n",
    "print(\"RMSE:\",m.mean_squared_error(y_test, pred, squared=False))\n",
    "print('R2 Score:', m.r2_score(y_test, pred))\n"
   ]
  },
  {
   "cell_type": "code",
   "execution_count": null,
   "id": "82e8782d",
   "metadata": {},
   "outputs": [],
   "source": [
    "Polynomial Regression"
   ]
  },
  {
   "cell_type": "code",
   "execution_count": 16,
   "id": "1fdbf9ac",
   "metadata": {},
   "outputs": [
    {
     "name": "stdout",
     "output_type": "stream",
     "text": [
      "R2 score: 0.8258095168870617\n",
      "MSE: 7259178.035045562\n",
      "RMSE: 2694.286182840561\n"
     ]
    }
   ],
   "source": [
    "poly = PolynomialFeatures(degree = 8) \n",
    "linreg=LinearRegression(normalize=True)\n",
    "X_train_poly = poly.fit_transform(X_train)\n",
    "X_test_poly = poly.fit_transform(X_test)\n",
    "linreg.fit(X_train_poly, y_train)\n",
    "prediction_poly=linreg.predict(X_test_poly)\n",
    "print('R2 score:', m.r2_score(y_test, prediction_poly))\n",
    "print(\"MSE:\", m.mean_squared_error(y_test, prediction_poly))\n",
    "print(\"RMSE:\",m.mean_squared_error(y_test, prediction_poly, squared=False))"
   ]
  },
  {
   "cell_type": "code",
   "execution_count": null,
   "id": "7d031597",
   "metadata": {},
   "outputs": [],
   "source": [
    "SVM regression"
   ]
  },
  {
   "cell_type": "code",
   "execution_count": 14,
   "id": "280dcdc4",
   "metadata": {},
   "outputs": [
    {
     "name": "stdout",
     "output_type": "stream",
     "text": [
      "R2 score: -0.0885021333219973\n",
      "MSE: 45362011.95439691\n",
      "RMSE: 6735.132660489837\n"
     ]
    }
   ],
   "source": [
    "X_train_svr,y_train_svr = X_train[:5000,:3],y_train[:5000]\n",
    "model_nlinear = SVR()\n",
    "model_nlinear.fit(X_train_svr, y_train_svr)\n",
    "y_pred_rbf = model_nlinear.predict(X_test)\n",
    "print('R2 score:', m.r2_score(y_test, y_pred_rbf))\n",
    "print(\"MSE:\", m.mean_squared_error(y_test, y_pred_rbf))\n",
    "print(\"RMSE:\",m.mean_squared_error(y_test, y_pred_rbf, squared=False))\n",
    "\n"
   ]
  },
  {
   "cell_type": "code",
   "execution_count": null,
   "id": "6efd8850",
   "metadata": {},
   "outputs": [],
   "source": [
    "KNN Regressor"
   ]
  },
  {
   "cell_type": "code",
   "execution_count": 13,
   "id": "6c2c5736",
   "metadata": {},
   "outputs": [
    {
     "name": "stdout",
     "output_type": "stream",
     "text": [
      "R Squared Error: 0.816703555451757\n",
      "MSE: 7638657.981698437\n",
      "RMSE: 2763.8122189646742\n"
     ]
    }
   ],
   "source": [
    "clf = KNeighborsRegressor(n_neighbors=3)\n",
    "clf.fit(X_train, y_train)\n",
    "y_pred = clf.predict(X_test)\n",
    "print('R Squared Error:', m.r2_score(y_test, y_pred))\n",
    "print(\"MSE:\", m.mean_squared_error(y_test, y_pred))\n",
    "print(\"RMSE:\",m.mean_squared_error(y_test, y_pred, squared=False))\n",
    "\n"
   ]
  },
  {
   "cell_type": "markdown",
   "id": "ac4d00c5",
   "metadata": {},
   "source": [
    "We consider MSE to be the measure of accuracy in regression models "
   ]
  },
  {
   "cell_type": "code",
   "execution_count": 16,
   "id": "fa0afefd",
   "metadata": {},
   "outputs": [
    {
     "name": "stdout",
     "output_type": "stream",
     "text": [
      "                MLA used           MSE\n",
      "0      Linear Regression  8.809004e+06\n",
      "1  Polynomial Regression  7.259178e+06\n",
      "2          SVM Regressor  4.536201e+07\n",
      "3          KNN Regressor  7.638658e+06\n"
     ]
    }
   ],
   "source": [
    "MLA_columns = pd.Series([\"Linear Regression\",\"Polynomial Regression\",\"SVM Regressor\",\"KNN Regressor\"])\n",
    "MLA_Test_Accuracy =pd.Series([(m.mean_squared_error(y_test, pred)), (m.mean_squared_error(y_test, prediction_poly)), m.mean_squared_error(y_test, y_pred_rbf),(m.mean_squared_error(y_test,y_pred))])\n",
    "MLA_compare = pd.DataFrame(columns = MLA_columns)\n",
    "frame = {'MLA used': MLA_columns, 'MSE': MLA_Test_Accuracy }\n",
    "MLA_compare =  pd.DataFrame(frame)  \n",
    "print(MLA_compare)"
   ]
  },
  {
   "cell_type": "code",
   "execution_count": 17,
   "id": "2ea425ab",
   "metadata": {},
   "outputs": [
    {
     "data": {
      "image/png": "[encoded data removed]",
      "text/plain": [
       "<Figure size 360x648 with 1 Axes>"
      ]
     },
     "metadata": {
      "needs_background": "light"
     },
     "output_type": "display_data"
    }
   ],
   "source": [
    "plt.subplots(figsize=(5,9))\n",
    "sns.barplot(x=\"MLA used\", y=\"MSE\",data=MLA_compare,palette='hot',edgecolor=sns.color_palette('dark',7))\n",
    "plt.xticks(rotation=90)\n",
    "plt.title('MLA Train Accuracy Comparison')\n",
    "plt.show()"
   ]
  }
 ],
 "metadata": {
  "kernelspec": {
   "display_name": "Python 3 (ipykernel)",
   "language": "python",
   "name": "python3"
  },
  "language_info": {
   "codemirror_mode": {
    "name": "ipython",
    "version": 3
   },
   "file_extension": ".py",
   "mimetype": "text/x-python",
   "name": "python",
   "nbconvert_exporter": "python",
   "pygments_lexer": "ipython3",
   "version": "3.10.6"
  }
 },
 "nbformat": 4,
 "nbformat_minor": 5
}
